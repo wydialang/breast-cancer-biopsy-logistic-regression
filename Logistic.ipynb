{
  "nbformat": 4,
  "nbformat_minor": 0,
  "metadata": {
    "colab": {
      "name": "Logistic.ipynb",
      "provenance": [],
      "collapsed_sections": [
        "HP9U_AO8stAq",
        "CwIq3r8RENiw"
      ]
    },
    "kernelspec": {
      "name": "python3",
      "display_name": "Python 3"
    }
  },
  "cells": [
    {
      "cell_type": "markdown",
      "metadata": {
        "id": "eN6PSgaoEPr9",
        "colab_type": "text"
      },
      "source": [
        "## Instructor Led Discussion"
      ]
    },
    {
      "cell_type": "markdown",
      "metadata": {
        "id": "HP9U_AO8stAq",
        "colab_type": "text"
      },
      "source": [
        "### Introduction to Breast Cancer Biopsy Classification\n",
        "\n",
        "In this project, imagine that your colleague, an oncologist (cancer doctor), is working in a major hospital that specializes in treating breast cancers. Breast cancer tumors are very complicated at the cellular level, and this makes determining whether a patient's tumor is malignant (dangerous) or benign (not dangerous) a challenge. Your task will be to build a classifier that can determine whether a sample is malignant or benign to help your colleague!\n",
        "\n",
        "Every patient that arrives at the hospital undergoes a biopsy of their tumor. This means that a small sample of the tumor is taken from the patient and various metrics are recorded about it, including: radius, texture, perimeter, area, smoothness, compactness, concavity, concave points, symmetry, and fractal dimension. \n",
        "\n",
        "Using a large dataset of labeled biospy samples from breast cancer tumors, you will build your binary classification model to determine whether a tumor is malignant or benign based on these features. Then, this model can help you to better determine diagnoses for new patients who arrive at the hospital.\n"
      ]
    },
    {
      "cell_type": "markdown",
      "metadata": {
        "id": "CwIq3r8RENiw",
        "colab_type": "text"
      },
      "source": [
        "## Today...\n",
        "We will explore together the steps that you could take to help your friend solve this problem!\n",
        "\n",
        "#### 1. Background and data exploration\n",
        "\n",
        "- Exercise 1 (exploring the data)\n",
        "\n",
        "#### 2. Simple boundary classifier\n",
        "\n",
        "- Exercise 2 (separating on a boundary)\n",
        "- Exercise 3 (precision, recall, accuracy)\n",
        "\n",
        "#### 3. Modifying with logistic regression\n",
        "\n",
        "- Exercise 4 (single feature logistic regression)\n",
        "- Exercise 5 (multiple feature logistic regression)\n",
        "\n",
        "#### 4. Decision trees walkthrough\n",
        "\n"
      ]
    },
    {
      "cell_type": "markdown",
      "metadata": {
        "id": "t5WlU9mlAtTt",
        "colab_type": "text"
      },
      "source": [
        "# Background and data exploration"
      ]
    },
    {
      "cell_type": "markdown",
      "metadata": {
        "id": "gOTZCNwKs8Bc",
        "colab_type": "text"
      },
      "source": [
        "## Diagnosing cancer with biopsies\n"
      ]
    },
    {
      "cell_type": "markdown",
      "metadata": {
        "id": "ei8za5s3tVw8",
        "colab_type": "text"
      },
      "source": [
        "**Before** we dive into building a classifier for breast cancer tumors, it's important to understand how the data are generated and gain intuition for what the various features mean.\n",
        "\n",
        "![alt text](https://www.rxdatascience.com/hubfs/Raj%20Files/es1.jpg)\n",
        "\n",
        "The above image is an example of cancerous (malignant) breast cells next to benign cells. These cells were removed as part of a biopsy of a tumor from a patient in which a small amount of fluid/tissue from the tumor is sampled with a special needle. Then, the cells in this sample are strained with different dyes to visualize their shapes, how much DNA they have, etc. All these properties can help to give hints as to whether cells are rapidly dividing cancer cells or not. \n",
        "\n",
        "Our dataset reports 10 different features of the biopsies. Here's what each means:\n",
        "\n",
        "1. $Radius$: Average distance from the center of the cell's nucleus to its perimeter.\n",
        "2. $Perimeter$: Total distance between points defining the cell's nuclear perimeter.\n",
        "3. $Area$: Nuclear area is measured by counting the number of pixels on the interior of the nucleus and adding one-half of the pixels in the perimeter.\n",
        "\n",
        "The following image should give a visual to what these cell nucleus features look like: \n",
        "\n",
        "![perimeter](https://drive.google.com/uc?export=view&id=1-U43OAojYbMY9gIlpvLHPNr3V2saqqHJ)\n",
        "\n",
        "4. $Compactness$: Calculated as the compactness of the cell nuclei using the\n",
        "formula $perimeter^2/area$\n",
        "5. $Smoothness$: Measures the smoothness of a nuclear contour by measuring the difference between the length of a radial line and the mean length of the lines surrounding it. The image below demonstrates this:\n",
        "\n",
        "![alt text](https://drive.google.com/uc?export=view&id=10GokzG7KDKxClJwHPIuIcr3ivvWGRetY)\n",
        "\n",
        "\n",
        "The paper that first detailed these measurements for this dataset can be found here for more information: https://pdfs.semanticscholar.org/1c4a/4db612212a9d3806a848854d20da9ddd0504.pdf \n"
      ]
    },
    {
      "cell_type": "markdown",
      "metadata": {
        "id": "dYeVd9eptE31",
        "colab_type": "text"
      },
      "source": [
        "## Breast cancer diagnostic dataset\n",
        "\n",
        "The dataset we will use to train our model is called the Breast Cancer Wisconsin (Diagnostic) Data Set. It consists of 569 biopsy samples, just like the ones described above, from breast cancer tumors. \n",
        "\n",
        "Each biopsy sample in the dataset is labeled with an ID number and whether or not the tumor it came from is malignant (M) or benign (B). Each sample also has 10 different features associated with it, some of which are described above. Remember that each feature value for a given biopsy sample is a real-valued number.\n",
        "\n",
        "Think: what sorts of features would you expect to be different between a rapidly growing, malignant cancer cell and a healthy one? Why?"
      ]
    },
    {
      "cell_type": "code",
      "metadata": {
        "id": "zTLBQUJZJpEU",
        "colab_type": "code",
        "colab": {}
      },
      "source": [
        "#@title Run this to download your data! { display-mode: \"form\" }\n",
        "# Load the data!\n",
        "import gdown \n",
        "import pandas as pd\n",
        "from sklearn import metrics\n",
        "gdown.download('https://drive.google.com/uc?id=1grV8hSxULsGvnbwEMPjPaknccfIOlcoB','cancer_data.csv',True);\n",
        "data = pd.read_csv('cancer_data.csv')\n",
        "data['diagnosis'].replace({'M':1, 'B':0}, inplace = True)\n",
        "data.to_csv('cancer_data.csv')\n",
        "del data\n"
      ],
      "execution_count": null,
      "outputs": []
    },
    {
      "cell_type": "markdown",
      "metadata": {
        "id": "LSpUGH4NvaUk",
        "colab_type": "text"
      },
      "source": [
        "## Loading our annotated dataset\n",
        "\n",
        "The first step in building our breast cancer tumor classification model is to load in the dataset we'll use to \"teach\" (or \"train\") our model."
      ]
    },
    {
      "cell_type": "code",
      "metadata": {
        "id": "LmyUG5GrvdPf",
        "colab_type": "code",
        "colab": {}
      },
      "source": [
        "# First, import helpful Python tools for loading/navigating data\n",
        "import os             # Good for navigating your computer's files \n",
        "import numpy as np    # Great for lists (arrays) of numbers\n",
        "import pandas as pd   # Great for tables (google spreadsheets, microsoft excel, csv)"
      ],
      "execution_count": null,
      "outputs": []
    },
    {
      "cell_type": "code",
      "metadata": {
        "id": "5Cu2tGYpv5AZ",
        "colab_type": "code",
        "colab": {}
      },
      "source": [
        "data_path  = 'cancer_data.csv'"
      ],
      "execution_count": null,
      "outputs": []
    },
    {
      "cell_type": "code",
      "metadata": {
        "id": "TE3BWCCJv8TZ",
        "colab_type": "code",
        "colab": {}
      },
      "source": [
        "# Use the 'pd.read_csv('file')' function to read in read our data and store it in a variable called 'dataframe'\n",
        "dataframe = pd.read_csv(data_path)"
      ],
      "execution_count": null,
      "outputs": []
    },
    {
      "cell_type": "markdown",
      "metadata": {
        "id": "YKx4euGqwHpS",
        "colab_type": "text"
      },
      "source": [
        " ## Looking at our dataset\n",
        " \n",
        " #### Exercise 1\n",
        " \n",
        " A key step in machine learning (and coding in general!) is to view the structure and dimensions of our new dataframe, which stores all our training data from the tumor biopsies. We want to confirm that the size of our table is correct, check out the features present, and get a more visual sense of what it looks like overall."
      ]
    },
    {
      "cell_type": "code",
      "metadata": {
        "id": "eUBEd-10v-Ro",
        "colab_type": "code",
        "colab": {}
      },
      "source": [
        "# Let's look at just a few of the biopsy sample features to start by subsetting our 'dataframe'\n",
        "dataframe = dataframe[['diagnosis','radius_mean','area_mean', 'radius_se', 'area_se', 'smoothness_mean','smoothness_se']]"
      ],
      "execution_count": null,
      "outputs": []
    },
    {
      "cell_type": "markdown",
      "metadata": {
        "id": "44xNblKYVRHh",
        "colab_type": "text"
      },
      "source": [
        "You can think of dataframes like Google or Microsoft Excel spreadsheets (large tables with row/column headers) \n",
        "\n",
        "**Use the 'head()' method to show the first five rows of the table and their corresponding column headers (our 7 biopsy features!)**"
      ]
    },
    {
      "cell_type": "code",
      "metadata": {
        "id": "sKRxaP1qweIz",
        "colab_type": "code",
        "colab": {
          "base_uri": "https://localhost:8080/",
          "height": 195
        },
        "outputId": "36ff815e-905f-4538-f680-771b1aa11162"
      },
      "source": [
        "# YOUR CODE HERE: \n",
        "dataframe.head()\n",
        "# END CODE"
      ],
      "execution_count": null,
      "outputs": [
        {
          "output_type": "execute_result",
          "data": {
            "text/html": [
              "<div>\n",
              "<style scoped>\n",
              "    .dataframe tbody tr th:only-of-type {\n",
              "        vertical-align: middle;\n",
              "    }\n",
              "\n",
              "    .dataframe tbody tr th {\n",
              "        vertical-align: top;\n",
              "    }\n",
              "\n",
              "    .dataframe thead th {\n",
              "        text-align: right;\n",
              "    }\n",
              "</style>\n",
              "<table border=\"1\" class=\"dataframe\">\n",
              "  <thead>\n",
              "    <tr style=\"text-align: right;\">\n",
              "      <th></th>\n",
              "      <th>diagnosis</th>\n",
              "      <th>radius_mean</th>\n",
              "      <th>area_mean</th>\n",
              "      <th>radius_se</th>\n",
              "      <th>area_se</th>\n",
              "      <th>smoothness_mean</th>\n",
              "      <th>smoothness_se</th>\n",
              "    </tr>\n",
              "  </thead>\n",
              "  <tbody>\n",
              "    <tr>\n",
              "      <th>0</th>\n",
              "      <td>1</td>\n",
              "      <td>17.99</td>\n",
              "      <td>1001.0</td>\n",
              "      <td>1.0950</td>\n",
              "      <td>153.40</td>\n",
              "      <td>0.11840</td>\n",
              "      <td>0.006399</td>\n",
              "    </tr>\n",
              "    <tr>\n",
              "      <th>1</th>\n",
              "      <td>1</td>\n",
              "      <td>20.57</td>\n",
              "      <td>1326.0</td>\n",
              "      <td>0.5435</td>\n",
              "      <td>74.08</td>\n",
              "      <td>0.08474</td>\n",
              "      <td>0.005225</td>\n",
              "    </tr>\n",
              "    <tr>\n",
              "      <th>2</th>\n",
              "      <td>1</td>\n",
              "      <td>19.69</td>\n",
              "      <td>1203.0</td>\n",
              "      <td>0.7456</td>\n",
              "      <td>94.03</td>\n",
              "      <td>0.10960</td>\n",
              "      <td>0.006150</td>\n",
              "    </tr>\n",
              "    <tr>\n",
              "      <th>3</th>\n",
              "      <td>1</td>\n",
              "      <td>11.42</td>\n",
              "      <td>386.1</td>\n",
              "      <td>0.4956</td>\n",
              "      <td>27.23</td>\n",
              "      <td>0.14250</td>\n",
              "      <td>0.009110</td>\n",
              "    </tr>\n",
              "    <tr>\n",
              "      <th>4</th>\n",
              "      <td>1</td>\n",
              "      <td>20.29</td>\n",
              "      <td>1297.0</td>\n",
              "      <td>0.7572</td>\n",
              "      <td>94.44</td>\n",
              "      <td>0.10030</td>\n",
              "      <td>0.011490</td>\n",
              "    </tr>\n",
              "  </tbody>\n",
              "</table>\n",
              "</div>"
            ],
            "text/plain": [
              "   diagnosis  radius_mean  area_mean  ...  area_se  smoothness_mean  smoothness_se\n",
              "0          1        17.99     1001.0  ...   153.40          0.11840       0.006399\n",
              "1          1        20.57     1326.0  ...    74.08          0.08474       0.005225\n",
              "2          1        19.69     1203.0  ...    94.03          0.10960       0.006150\n",
              "3          1        11.42      386.1  ...    27.23          0.14250       0.009110\n",
              "4          1        20.29     1297.0  ...    94.44          0.10030       0.011490\n",
              "\n",
              "[5 rows x 7 columns]"
            ]
          },
          "metadata": {
            "tags": []
          },
          "execution_count": 6
        }
      ]
    },
    {
      "cell_type": "markdown",
      "metadata": {
        "id": "tilXEPhVwkjk",
        "colab_type": "text"
      },
      "source": [
        "Our colleague has given us documentation on what each feature column means. Specifically:\n",
        "\n",
        "* $diagnosis$: Whether or not the tumor was diagnosed as malignant (M) or benign (B).\n",
        "* $radius$_$mean$: The radius data feature, averaged across cells in that particular biopsy\n",
        "* $area$_$mean$: The area data feature, averaged across cells in that particular biopsy\n",
        "* $radius$_$se$: The standard error of the radius data feature for cells in that particular biopsy\n",
        "* $area$_$se$: The standard error of the area data feature for cells in that particular biopsy\n",
        "* $smoothness$_$mean$: The smoothness feature, averaged across cells in that particular biopsy\n",
        "* $smoothness$_$se$: The standard error of the smoothness data feature for cells in that particular biopsy\n",
        "\n",
        "Recall that the term mean refers to taking an average (summing the values for each cell and dividing by the total number of cells observed in that biopsy). Additionally, standarded error gives a sense of the standard deviation (how much variance there is between cells in that biopsy for that feature). "
      ]
    },
    {
      "cell_type": "code",
      "metadata": {
        "id": "0-SoD9EQw5Ie",
        "colab_type": "code",
        "colab": {
          "base_uri": "https://localhost:8080/",
          "height": 252
        },
        "outputId": "9436d4dc-f28e-4c3d-ea18-3e84e86ea0bd"
      },
      "source": [
        "# Next, we'll use the 'info' method to see the data types of each column\n",
        "dataframe.info()"
      ],
      "execution_count": null,
      "outputs": [
        {
          "output_type": "stream",
          "text": [
            "<class 'pandas.core.frame.DataFrame'>\n",
            "RangeIndex: 569 entries, 0 to 568\n",
            "Data columns (total 7 columns):\n",
            " #   Column           Non-Null Count  Dtype  \n",
            "---  ------           --------------  -----  \n",
            " 0   diagnosis        569 non-null    int64  \n",
            " 1   radius_mean      569 non-null    float64\n",
            " 2   area_mean        569 non-null    float64\n",
            " 3   radius_se        569 non-null    float64\n",
            " 4   area_se          569 non-null    float64\n",
            " 5   smoothness_mean  569 non-null    float64\n",
            " 6   smoothness_se    569 non-null    float64\n",
            "dtypes: float64(6), int64(1)\n",
            "memory usage: 31.2 KB\n"
          ],
          "name": "stdout"
        }
      ]
    },
    {
      "cell_type": "markdown",
      "metadata": {
        "id": "FM41uioFw_Ow",
        "colab_type": "text"
      },
      "source": [
        "**Question: We see that these are all numeric data types. Does this make sense? Why?**\n"
      ]
    },
    {
      "cell_type": "code",
      "metadata": {
        "id": "pfrRdo-JSjKG",
        "colab_type": "code",
        "colab": {}
      },
      "source": [
        "\n",
        "#**ANSWER**: Yes, the diagnosis (M or B) should be represented as integers (1 or 0). We were told that each of the feaures are real-valued numbers, \n",
        "#so they should be floats (numeric types with decimal places). "
      ],
      "execution_count": null,
      "outputs": []
    },
    {
      "cell_type": "markdown",
      "metadata": {
        "id": "ZOflJPi5uF5h",
        "colab_type": "text"
      },
      "source": [
        "# Simple boundary classifier\n",
        "\n",
        "Great! You've gotten a sense of the dataset we will use to train our classification model. Our approach will be to first start simple -- let's look at just one feature of the data samples and see how well its value predicts M vs. B for our labeled dataset. "
      ]
    },
    {
      "cell_type": "markdown",
      "metadata": {
        "id": "Wj5Tyew6uL8q",
        "colab_type": "text"
      },
      "source": [
        "## Can mean radius predict diagnosis?"
      ]
    },
    {
      "cell_type": "code",
      "metadata": {
        "colab_type": "code",
        "id": "LP0-9c4VxsJ7",
        "colab": {
          "base_uri": "https://localhost:8080/",
          "height": 70
        },
        "outputId": "89e98e99-82cb-42b4-b51d-c2fa48ccbabb"
      },
      "source": [
        "# First, we'll import some handy data visualization tools\n",
        "import seaborn as sns\n",
        "import matplotlib.pyplot as plt "
      ],
      "execution_count": null,
      "outputs": [
        {
          "output_type": "stream",
          "text": [
            "/usr/local/lib/python3.6/dist-packages/statsmodels/tools/_testing.py:19: FutureWarning: pandas.util.testing is deprecated. Use the functions in the public API at pandas.testing instead.\n",
            "  import pandas.util.testing as tm\n"
          ],
          "name": "stderr"
        }
      ]
    },
    {
      "cell_type": "code",
      "metadata": {
        "id": "IULVFMLhyLwN",
        "colab_type": "code",
        "colab": {
          "base_uri": "https://localhost:8080/",
          "height": 386
        },
        "outputId": "a93b4de3-40a6-4beb-e4e2-f8ea78e22d94"
      },
      "source": [
        "# To see how well mean radius correlates with diagnosis, we'll plot the data\n",
        "# separated based on diagnosis category on the x-axis and have the points' y-value\n",
        "# be its mean radius value\n",
        "\n",
        "sns.catplot(x = 'diagnosis', y = 'radius_mean', data = dataframe)"
      ],
      "execution_count": null,
      "outputs": [
        {
          "output_type": "execute_result",
          "data": {
            "text/plain": [
              "<seaborn.axisgrid.FacetGrid at 0x7ff631aecef0>"
            ]
          },
          "metadata": {
            "tags": []
          },
          "execution_count": 11
        },
        {
          "output_type": "display_data",
          "data": {
            "image/png": "[encoded data removed]",
            "text/plain": [
              "<Figure size 360x360 with 1 Axes>"
            ]
          },
          "metadata": {
            "tags": [],
            "needs_background": "light"
          }
        }
      ]
    },
    {
      "cell_type": "markdown",
      "metadata": {
        "id": "mDlWi8LTKgQu",
        "colab_type": "text"
      },
      "source": [
        "**Question:** How would you interpret what is going on in the chart above?\n"
      ]
    },
    {
      "cell_type": "code",
      "metadata": {
        "id": "Yzwt4-7KV60I",
        "colab_type": "code",
        "colab": {}
      },
      "source": [
        "#**ANSWER:** To some degree, lower mean radius is correlated with benign tumors and \n",
        "#higher mean radius with malignant tumors. We expect this biologically -- since cancer is a \n",
        "#disease of rapidly growing and dividing cells, we expect cells to be more deformed and to \n",
        "#have more replicating (non-compact) DNA on average than healthy cells. Thus, a larger mean nucleus radius. That said, this isn't perfect; we see overlap between mean radius \n",
        "#values and the two categories in the middle of the plot (investigated in the next section). \n"
      ],
      "execution_count": null,
      "outputs": []
    },
    {
      "cell_type": "markdown",
      "metadata": {
        "id": "sFG1rBi8zq0n",
        "colab_type": "text"
      },
      "source": [
        "## Classification is just drawing boundaries!\n",
        "Next, we might want to check just how well mean radius can be used to classify, or separate, the datapoints in either category\n",
        "Let's pick a boundary value for the radius mean and see how well it separates the data"
      ]
    },
    {
      "cell_type": "code",
      "metadata": {
        "id": "1oYBTJsvyaC6",
        "colab_type": "code",
        "colab": {
          "base_uri": "https://localhost:8080/",
          "height": 297
        },
        "outputId": "5361327e-1123-418b-9375-a83a03445e49"
      },
      "source": [
        "boundary = 10\n",
        "sns.scatterplot(x = 'radius_mean', y = 'diagnosis', data = dataframe)\n",
        "plt.plot([boundary, boundary], [0, 1], 'g', linewidth = 6)"
      ],
      "execution_count": null,
      "outputs": [
        {
          "output_type": "execute_result",
          "data": {
            "text/plain": [
              "[<matplotlib.lines.Line2D at 0x7f4c114ad550>]"
            ]
          },
          "metadata": {
            "tags": []
          },
          "execution_count": 14
        },
        {
          "output_type": "display_data",
          "data": {
            "image/png": "[encoded data removed]",
            "text/plain": [
              "<Figure size 432x288 with 1 Axes>"
            ]
          },
          "metadata": {
            "tags": [],
            "needs_background": "light"
          }
        }
      ]
    },
    {
      "cell_type": "markdown",
      "metadata": {
        "id": "hXww4S6cNeo7",
        "colab_type": "text"
      },
      "source": [
        "**Question:** Does this boundary value separate the data well?\n"
      ]
    },
    {
      "cell_type": "code",
      "metadata": {
        "id": "McTNFzgaKbVc",
        "colab_type": "code",
        "colab": {}
      },
      "source": [
        "#**ANSWER:** No, this does not achieve a perfect separation. \n",
        "\n",
        "\n"
      ],
      "execution_count": null,
      "outputs": []
    },
    {
      "cell_type": "markdown",
      "metadata": {
        "id": "6ZmcQ_vGWZnR",
        "colab_type": "text"
      },
      "source": [
        "Using a boundary value, we can build a boundary classifier function. This function will take in a boundary value of our choosing and then classify the data points based on whether or not they are above or below the boundary\n",
        "\n",
        "#### Building the boundary classifier\n",
        "#### Exercise (optional)\n",
        "Here we build the function that takes in a target boundary (value of radius mean). Write a function to implement a boundary classifier. Think about what the return 'type' of this classifier might be. The parameter target_boundary refers to the boundary value, and x is a pandas Series data type object (a labeled 1D array).\n",
        "\n",
        "\n",
        "```\n",
        "def boundary_classifier(target_boundary,x):\n",
        "          return ____\n",
        "```\n",
        "\n",
        "\n"
      ]
    },
    {
      "cell_type": "code",
      "metadata": {
        "id": "-Vc2zc5QTel4",
        "colab_type": "code",
        "colab": {}
      },
      "source": [
        "def boundary_classifier(target_boundary, x):\n",
        "  result = []\n",
        "  # print(type(x))\n",
        "  for i in x:\n",
        "    if i > target_boundary:\n",
        "      result.append(1)\n",
        "    else:\n",
        "      result.append(0)\n",
        "  return result\n",
        "\n",
        "\n",
        "boundary_classifier(5,[0,10,20,15,5.1,4,3])"
      ],
      "execution_count": null,
      "outputs": []
    },
    {
      "cell_type": "markdown",
      "metadata": {
        "id": "kBttJRoNYYdJ",
        "colab_type": "text"
      },
      "source": [
        "The code below chooses a boundary and runs it for us. "
      ]
    },
    {
      "cell_type": "code",
      "metadata": {
        "id": "0PiRMX-xKjiA",
        "colab_type": "code",
        "colab": {
          "base_uri": "https://localhost:8080/",
          "height": 297
        },
        "outputId": "d5cb4869-f7af-4beb-9163-60fa141cbdd2"
      },
      "source": [
        "chosen_boundary = 15\n",
        "y_pred = boundary_classifier(chosen_boundary, dataframe['radius_mean'])\n",
        "dataframe['predicted'] = y_pred\n",
        "y_true = dataframe['diagnosis']\n",
        "sns.scatterplot(x = 'radius_mean', y = 'diagnosis', hue = 'predicted', data = dataframe)\n",
        "plt.plot([chosen_boundary, chosen_boundary], [0, 1], 'g', linewidth = 6)\n"
      ],
      "execution_count": null,
      "outputs": [
        {
          "output_type": "execute_result",
          "data": {
            "text/plain": [
              "[<matplotlib.lines.Line2D at 0x7f4c149aebe0>]"
            ]
          },
          "metadata": {
            "tags": []
          },
          "execution_count": 16
        },
        {
          "output_type": "display_data",
          "data": {
            "image/png": "[encoded data removed]",
            "text/plain": [
              "<Figure size 432x288 with 1 Axes>"
            ]
          },
          "metadata": {
            "tags": [],
            "needs_background": "light"
          }
        }
      ]
    },
    {
      "cell_type": "code",
      "metadata": {
        "id": "Ro6toAITfrp1",
        "colab_type": "code",
        "colab": {
          "base_uri": "https://localhost:8080/",
          "height": 34
        },
        "outputId": "9f2f7831-031b-450f-816e-fdbb7896bfdd"
      },
      "source": [
        "accuracy = metrics.accuracy_score(y_true,y_pred)\n",
        "accuracy"
      ],
      "execution_count": null,
      "outputs": [
        {
          "output_type": "execute_result",
          "data": {
            "text/plain": [
              "0.8892794376098418"
            ]
          },
          "metadata": {
            "tags": []
          },
          "execution_count": 17
        }
      ]
    },
    {
      "cell_type": "markdown",
      "metadata": {
        "id": "pkVDw3wHZMD_",
        "colab_type": "text"
      },
      "source": [
        "**Now adjust the chosen boundary above to get the best possible 'separation'. As you do that, think about what it means for a separation to be 'good'. Try playing around with the boundary value to get the highest possible accuracy.**"
      ]
    },
    {
      "cell_type": "markdown",
      "metadata": {
        "id": "DJdMjjFHMA22",
        "colab_type": "text"
      },
      "source": [
        "## What makes a separation good?\n"
      ]
    },
    {
      "cell_type": "markdown",
      "metadata": {
        "id": "ddOT-6M11ru1",
        "colab_type": "text"
      },
      "source": [
        "### Instructor Led Discussion:\n"
      ]
    },
    {
      "cell_type": "markdown",
      "metadata": {
        "id": "YwOdbfoiL9pz",
        "colab_type": "text"
      },
      "source": [
        "\n",
        "From exploring different boundary values for the radius mean feature, you can see that depending on which value is chosen, the data points are classified slighly differently. This brings up the question of how we can evaluate how good a classification is. \n",
        "\n",
        "Often, we do this by looking at the rates of true positives/true negatives/false positives/false negatives. Let's define these important terms:\n",
        "\n",
        "**True positive rate (TPR)**: Sometimes called sensitvity, the TPR is the proportion of actual positives that are correctly identified as such. An analogy would be the percentage of sick people who are correctly identified as having the disease in some population.\n",
        "\n",
        "**True negative rate (TNR)**: Sometimes called specificity, the TNR is the proportion of actual negatives that are correctly identified as such. An analogy would be the the percentage of healthy people who are correctly identified as not having the disease in some population.\n",
        "\n",
        "**False positive rate (FPR)**: The FPR is the proportion of actual negatives that are incorrectly identified as positives. An analogy would be the percentage of healthy people who are incorrectly identified as having the disease.\n",
        "\n",
        "**False negative rate (FNR)**: The FPR is the proportion of actual positives that are incorrectly identified as negatives. An analogy would be the percentage of sick people who are incorrectly identified as healthy.\n",
        "\n",
        "A key insight is that there is a tradeoff when trying to reduce the different types of errors. For instance, if we want to increase our TPR (thus decrease our FNR by correctly identifying more sick people), our improvements will have to increase the number of people we guess to be sick. However, such an improvement will decrease our TNR (thus inrease our FPR by guessing more healty people are sick). \n",
        "\n",
        "Sometimes, one type of error is worse than the others for a given problem. Other times, however, we must strike an acceptable balance between the two."
      ]
    },
    {
      "cell_type": "markdown",
      "metadata": {
        "id": "Koc7oPy8AASf",
        "colab_type": "text"
      },
      "source": [
        "![alt text](https://drive.google.com/uc?export=view&id=1S4S2MBM86D74C-Q0aPPwHzbU8iUveLKq)"
      ]
    },
    {
      "cell_type": "markdown",
      "metadata": {
        "id": "NzGO09WH5i2l",
        "colab_type": "text"
      },
      "source": [
        "### Exercise 3"
      ]
    },
    {
      "cell_type": "markdown",
      "metadata": {
        "id": "s_cmSK_pbjvP",
        "colab_type": "text"
      },
      "source": [
        "Next, let's evaluate the performance of our model quantitatively. We can visualize statistics on the number of correct vs. incorrect predictions using a plot called a Confusion Matrix.\n"
      ]
    },
    {
      "cell_type": "code",
      "metadata": {
        "id": "EcfsPpup9ljK",
        "colab_type": "code",
        "colab": {
          "base_uri": "https://localhost:8080/",
          "height": 342
        },
        "outputId": "e26a61f1-237b-4035-aabc-9b623ccd826a"
      },
      "source": [
        "#@title Run this code to create a confusion matrix. { display-mode: \"form\" }\n",
        "#@markdown If you are curious how it works you may double-click to inspect the code.\n",
        "\n",
        "# Import the metrics class\n",
        "from sklearn import metrics\n",
        "\n",
        "# Create the Confusion Matrix\n",
        "y_test = dataframe['diagnosis']\n",
        "cnf_matrix = metrics.confusion_matrix(y_test, y_pred)\n",
        "\n",
        "# Visualizing the Confusion Matrix\n",
        "class_names = [0,1] # Our diagnosis categories\n",
        "\n",
        "fig, ax = plt.subplots()\n",
        "# Setting up and visualizing the plot (do not worry about the code below!)\n",
        "tick_marks = np.arange(len(class_names)) \n",
        "plt.xticks(tick_marks, class_names)\n",
        "plt.yticks(tick_marks, class_names)\n",
        "sns.heatmap(pd.DataFrame(cnf_matrix), annot=True, cmap=\"YlGnBu\" ,fmt='g') # Creating heatmap\n",
        "ax.xaxis.set_label_position(\"top\")\n",
        "plt.tight_layout()\n",
        "plt.title('Confusion matrix', y = 1.1)\n",
        "plt.ylabel('Actual diagnosis')\n",
        "plt.xlabel('Predicted diagnosis')"
      ],
      "execution_count": null,
      "outputs": [
        {
          "output_type": "execute_result",
          "data": {
            "text/plain": [
              "Text(0.5, 257.44, 'Predicted diagnosis')"
            ]
          },
          "metadata": {
            "tags": []
          },
          "execution_count": 18
        },
        {
          "output_type": "display_data",
          "data": {
            "image/png": "[encoded data removed]",
            "text/plain": [
              "<Figure size 432x288 with 2 Axes>"
            ]
          },
          "metadata": {
            "tags": [],
            "needs_background": "light"
          }
        }
      ]
    },
    {
      "cell_type": "markdown",
      "metadata": {
        "id": "wzzrWDT_cxvF",
        "colab_type": "text"
      },
      "source": [
        "**Question: How would you interpret the confusion matrix above? Are we doing well at the classification?**"
      ]
    },
    {
      "cell_type": "markdown",
      "metadata": {
        "id": "S4qbrdz6Si-K",
        "colab_type": "text"
      },
      "source": [
        "Let's calculate how well our model does using sklearn, specifically, we will use the following functions: \n",
        "* `accuracy = metrics.accuracy_score(y_test, y_pred)`\n",
        "* `precision = metrics.precision_score(y_test, y_pred)`\n",
        "* `recall = metrics.recall_score(y_test, y_pred)`\n",
        "\n",
        "Make a function called `model_stats' that calculates each of these metrics and prints their values:\n",
        "        \n",
        "        `def model_stats(y_test, y_pred):`\n"
      ]
    },
    {
      "cell_type": "code",
      "metadata": {
        "id": "0xqCb1zElUUo",
        "colab_type": "code",
        "colab": {}
      },
      "source": [
        "# YOUR CODE HERE:  \n",
        "def model_stats(y_test, y_pred):\n",
        "  print(\"Accuracy: \", metrics.accuracy_score(y_test, y_pred))\n",
        "  print(\"Precision: \", metrics.precision_score(y_test, y_pred))\n",
        "  print(\"Recall: \", metrics.recall_score(y_test, y_pred))\n",
        "# END CODE"
      ],
      "execution_count": null,
      "outputs": []
    },
    {
      "cell_type": "code",
      "metadata": {
        "id": "tymoFFLaJzMc",
        "colab_type": "code",
        "colab": {
          "base_uri": "https://localhost:8080/",
          "height": 67
        },
        "outputId": "8a6793b0-394d-435e-a748-ac70e5d3083c"
      },
      "source": [
        "model_stats(y_test, y_pred)"
      ],
      "execution_count": null,
      "outputs": [
        {
          "output_type": "stream",
          "text": [
            "Accuracy:  0.8892794376098418\n",
            "Precision:  0.930635838150289\n",
            "Recall:  0.7594339622641509\n"
          ],
          "name": "stdout"
        }
      ]
    },
    {
      "cell_type": "markdown",
      "metadata": {
        "id": "8_k_JENInRys",
        "colab_type": "text"
      },
      "source": [
        "**Question: What does each of these values represent? What is the difference between each statistic?**"
      ]
    },
    {
      "cell_type": "markdown",
      "metadata": {
        "id": "sHhZeAbdupMl",
        "colab_type": "text"
      },
      "source": [
        "# Finding a better separation with logistic regression\n"
      ]
    },
    {
      "cell_type": "markdown",
      "metadata": {
        "id": "69c2JKp8Mxwi",
        "colab_type": "text"
      },
      "source": [
        "\n",
        "#### Exercise 4\n",
        "\n",
        "Now, it's time to move away from our simple guess-and-check model and work towards implementing a an approach that can automatically find a better separation. One of the most common methods for this is called 'Logistic Regression'. \n",
        "\n",
        "First, we'll start by just using the radius_mean feature. "
      ]
    },
    {
      "cell_type": "code",
      "metadata": {
        "id": "ZEq3DYrh1nPO",
        "colab_type": "code",
        "colab": {}
      },
      "source": [
        "# Let's pull our handy linear fitter from our 'prediction' toolbox: sklearn!\n",
        "from sklearn import linear_model"
      ],
      "execution_count": null,
      "outputs": []
    },
    {
      "cell_type": "markdown",
      "metadata": {
        "id": "ZJfT1x60fZxd",
        "colab_type": "text"
      },
      "source": [
        "### Training Data vs Test Data\n",
        "\n",
        "We're splitting up our data set into groups called 'train' and 'test'. We teach our 'model' the patterns using the train data, but the whole point of machine learning is that our prediction should work on 'unseen' data or 'test' data. The function below does this for you. \n"
      ]
    },
    {
      "cell_type": "code",
      "metadata": {
        "id": "krQ6dJo-5yek",
        "colab_type": "code",
        "colab": {}
      },
      "source": [
        "from sklearn.model_selection import train_test_split\n",
        "\n",
        "train_df, test_df = train_test_split(dataframe, test_size = 0.4, random_state = 1)\n"
      ],
      "execution_count": null,
      "outputs": []
    },
    {
      "cell_type": "markdown",
      "metadata": {
        "id": "OOECnkKBf_tD",
        "colab_type": "text"
      },
      "source": [
        "Let's now take a look at the 'train' and 'test' groups:\n"
      ]
    },
    {
      "cell_type": "code",
      "metadata": {
        "id": "wDYAAl6xgPYO",
        "colab_type": "code",
        "colab": {
          "base_uri": "https://localhost:8080/",
          "height": 246
        },
        "outputId": "8132457b-da57-4c06-d73e-d2038ab3bf42"
      },
      "source": [
        "print('\\n\\nTraining dataframe has %d rows'%train_df.shape[0])\n",
        "train_df.head()"
      ],
      "execution_count": null,
      "outputs": [
        {
          "output_type": "stream",
          "text": [
            "\n",
            "\n",
            "Training dataframe has 341 rows\n"
          ],
          "name": "stdout"
        },
        {
          "output_type": "execute_result",
          "data": {
            "text/html": [
              "<div>\n",
              "<style scoped>\n",
              "    .dataframe tbody tr th:only-of-type {\n",
              "        vertical-align: middle;\n",
              "    }\n",
              "\n",
              "    .dataframe tbody tr th {\n",
              "        vertical-align: top;\n",
              "    }\n",
              "\n",
              "    .dataframe thead th {\n",
              "        text-align: right;\n",
              "    }\n",
              "</style>\n",
              "<table border=\"1\" class=\"dataframe\">\n",
              "  <thead>\n",
              "    <tr style=\"text-align: right;\">\n",
              "      <th></th>\n",
              "      <th>diagnosis</th>\n",
              "      <th>radius_mean</th>\n",
              "      <th>area_mean</th>\n",
              "      <th>radius_se</th>\n",
              "      <th>area_se</th>\n",
              "      <th>smoothness_mean</th>\n",
              "      <th>smoothness_se</th>\n",
              "      <th>predicted</th>\n",
              "    </tr>\n",
              "  </thead>\n",
              "  <tbody>\n",
              "    <tr>\n",
              "      <th>164</th>\n",
              "      <td>1</td>\n",
              "      <td>23.270</td>\n",
              "      <td>1686.0</td>\n",
              "      <td>0.6642</td>\n",
              "      <td>97.85</td>\n",
              "      <td>0.08439</td>\n",
              "      <td>0.004910</td>\n",
              "      <td>1</td>\n",
              "    </tr>\n",
              "    <tr>\n",
              "      <th>13</th>\n",
              "      <td>1</td>\n",
              "      <td>15.850</td>\n",
              "      <td>782.7</td>\n",
              "      <td>0.4033</td>\n",
              "      <td>36.58</td>\n",
              "      <td>0.08401</td>\n",
              "      <td>0.009769</td>\n",
              "      <td>1</td>\n",
              "    </tr>\n",
              "    <tr>\n",
              "      <th>430</th>\n",
              "      <td>1</td>\n",
              "      <td>14.900</td>\n",
              "      <td>685.0</td>\n",
              "      <td>0.2530</td>\n",
              "      <td>24.19</td>\n",
              "      <td>0.09947</td>\n",
              "      <td>0.006965</td>\n",
              "      <td>0</td>\n",
              "    </tr>\n",
              "    <tr>\n",
              "      <th>61</th>\n",
              "      <td>0</td>\n",
              "      <td>8.598</td>\n",
              "      <td>221.8</td>\n",
              "      <td>0.3582</td>\n",
              "      <td>18.39</td>\n",
              "      <td>0.12430</td>\n",
              "      <td>0.011930</td>\n",
              "      <td>0</td>\n",
              "    </tr>\n",
              "    <tr>\n",
              "      <th>427</th>\n",
              "      <td>0</td>\n",
              "      <td>10.800</td>\n",
              "      <td>359.9</td>\n",
              "      <td>0.3077</td>\n",
              "      <td>20.20</td>\n",
              "      <td>0.08801</td>\n",
              "      <td>0.006543</td>\n",
              "      <td>0</td>\n",
              "    </tr>\n",
              "  </tbody>\n",
              "</table>\n",
              "</div>"
            ],
            "text/plain": [
              "     diagnosis  radius_mean  ...  smoothness_se  predicted\n",
              "164          1       23.270  ...       0.004910          1\n",
              "13           1       15.850  ...       0.009769          1\n",
              "430          1       14.900  ...       0.006965          0\n",
              "61           0        8.598  ...       0.011930          0\n",
              "427          0       10.800  ...       0.006543          0\n",
              "\n",
              "[5 rows x 8 columns]"
            ]
          },
          "metadata": {
            "tags": []
          },
          "execution_count": 24
        }
      ]
    },
    {
      "cell_type": "code",
      "metadata": {
        "id": "EMornfXPhzli",
        "colab_type": "code",
        "colab": {
          "base_uri": "https://localhost:8080/",
          "height": 246
        },
        "outputId": "8018398b-e711-46ca-bd35-80ae96450931"
      },
      "source": [
        "print('\\n\\nTesting dataframe has %d rows'%test_df.shape[0])\n",
        "test_df.head()"
      ],
      "execution_count": null,
      "outputs": [
        {
          "output_type": "stream",
          "text": [
            "\n",
            "\n",
            "Testing dataframe has 228 rows\n"
          ],
          "name": "stdout"
        },
        {
          "output_type": "execute_result",
          "data": {
            "text/html": [
              "<div>\n",
              "<style scoped>\n",
              "    .dataframe tbody tr th:only-of-type {\n",
              "        vertical-align: middle;\n",
              "    }\n",
              "\n",
              "    .dataframe tbody tr th {\n",
              "        vertical-align: top;\n",
              "    }\n",
              "\n",
              "    .dataframe thead th {\n",
              "        text-align: right;\n",
              "    }\n",
              "</style>\n",
              "<table border=\"1\" class=\"dataframe\">\n",
              "  <thead>\n",
              "    <tr style=\"text-align: right;\">\n",
              "      <th></th>\n",
              "      <th>diagnosis</th>\n",
              "      <th>radius_mean</th>\n",
              "      <th>area_mean</th>\n",
              "      <th>radius_se</th>\n",
              "      <th>area_se</th>\n",
              "      <th>smoothness_mean</th>\n",
              "      <th>smoothness_se</th>\n",
              "      <th>predicted</th>\n",
              "    </tr>\n",
              "  </thead>\n",
              "  <tbody>\n",
              "    <tr>\n",
              "      <th>421</th>\n",
              "      <td>0</td>\n",
              "      <td>14.69</td>\n",
              "      <td>656.1</td>\n",
              "      <td>0.5462</td>\n",
              "      <td>49.45</td>\n",
              "      <td>0.10310</td>\n",
              "      <td>0.009976</td>\n",
              "      <td>0</td>\n",
              "    </tr>\n",
              "    <tr>\n",
              "      <th>47</th>\n",
              "      <td>1</td>\n",
              "      <td>13.17</td>\n",
              "      <td>534.6</td>\n",
              "      <td>0.2871</td>\n",
              "      <td>24.25</td>\n",
              "      <td>0.11580</td>\n",
              "      <td>0.006532</td>\n",
              "      <td>0</td>\n",
              "    </tr>\n",
              "    <tr>\n",
              "      <th>292</th>\n",
              "      <td>0</td>\n",
              "      <td>12.95</td>\n",
              "      <td>513.7</td>\n",
              "      <td>0.2094</td>\n",
              "      <td>17.67</td>\n",
              "      <td>0.10050</td>\n",
              "      <td>0.008725</td>\n",
              "      <td>0</td>\n",
              "    </tr>\n",
              "    <tr>\n",
              "      <th>186</th>\n",
              "      <td>1</td>\n",
              "      <td>18.31</td>\n",
              "      <td>1041.0</td>\n",
              "      <td>0.2577</td>\n",
              "      <td>28.92</td>\n",
              "      <td>0.08588</td>\n",
              "      <td>0.002866</td>\n",
              "      <td>1</td>\n",
              "    </tr>\n",
              "    <tr>\n",
              "      <th>414</th>\n",
              "      <td>1</td>\n",
              "      <td>15.13</td>\n",
              "      <td>719.5</td>\n",
              "      <td>0.4681</td>\n",
              "      <td>45.38</td>\n",
              "      <td>0.08320</td>\n",
              "      <td>0.006831</td>\n",
              "      <td>1</td>\n",
              "    </tr>\n",
              "  </tbody>\n",
              "</table>\n",
              "</div>"
            ],
            "text/plain": [
              "     diagnosis  radius_mean  ...  smoothness_se  predicted\n",
              "421          0        14.69  ...       0.009976          0\n",
              "47           1        13.17  ...       0.006532          0\n",
              "292          0        12.95  ...       0.008725          0\n",
              "186          1        18.31  ...       0.002866          1\n",
              "414          1        15.13  ...       0.006831          1\n",
              "\n",
              "[5 rows x 8 columns]"
            ]
          },
          "metadata": {
            "tags": []
          },
          "execution_count": 25
        }
      ]
    },
    {
      "cell_type": "markdown",
      "metadata": {
        "id": "0WuOmB45g1-B",
        "colab_type": "text"
      },
      "source": [
        "### Single Variable Logistic Regression\n",
        "To start with let us set our input feature to be radius mean and our output variable to be the diagnosis. \n",
        "\n",
        "We will use this to build a logistic regression model to pedict the diagnosis using radius mean. We will explain what a logistic regression is shortly!"
      ]
    },
    {
      "cell_type": "code",
      "metadata": {
        "id": "chesGAaKNVON",
        "colab_type": "code",
        "colab": {
          "base_uri": "https://localhost:8080/",
          "height": 302
        },
        "outputId": "48c5c00b-5ab5-401c-fc15-39a187ff309b"
      },
      "source": [
        "input_labels = ['radius_mean']\n",
        "output_label = 'diagnosis'\n",
        "\n",
        "\n",
        "x_train = train_df[input_labels]\n",
        "print('Our x variables')\n",
        "print(x_train.head())\n",
        "print('\\n\\n')\n",
        "\n",
        "y_train = train_df[output_label]\n",
        "print('Our y variable:')\n",
        "print(y_train.head())"
      ],
      "execution_count": null,
      "outputs": [
        {
          "output_type": "stream",
          "text": [
            "Our x variables\n",
            "     radius_mean\n",
            "164       23.270\n",
            "13        15.850\n",
            "430       14.900\n",
            "61         8.598\n",
            "427       10.800\n",
            "\n",
            "\n",
            "\n",
            "Our y variable:\n",
            "164    1\n",
            "13     1\n",
            "430    1\n",
            "61     0\n",
            "427    0\n",
            "Name: diagnosis, dtype: int64\n"
          ],
          "name": "stdout"
        }
      ]
    },
    {
      "cell_type": "markdown",
      "metadata": {
        "id": "_ChOPgKIi6pI",
        "colab_type": "text"
      },
      "source": [
        "**Make sure you know how to interpret the data above before moving forward. Be sure to ask if you are not sure :)**"
      ]
    },
    {
      "cell_type": "code",
      "metadata": {
        "id": "kj1LIpVT6SwY",
        "colab_type": "code",
        "colab": {}
      },
      "source": [
        "# Here, we create a 'reg' object that handles the line fitting for us!\n",
        "class_rm = linear_model.LogisticRegression()"
      ],
      "execution_count": null,
      "outputs": []
    },
    {
      "cell_type": "markdown",
      "metadata": {
        "id": "shsboaDEjSC_",
        "colab_type": "text"
      },
      "source": [
        "###Next, we want to tell our 'class_rm' object to take in my inputs (x) and my true labels (y) and fit a line that predicts y from x.\n",
        "\n",
        "#### Exercise: Can you place the arguments `x_train` and `y_train` correctly into this function to do this?\n",
        "`class_rm.fit(FILL_ME_IN, FILL_ME_IN)`\n"
      ]
    },
    {
      "cell_type": "code",
      "metadata": {
        "id": "NfV0t3bqjtum",
        "colab_type": "code",
        "colab": {
          "base_uri": "https://localhost:8080/",
          "height": 101
        },
        "outputId": "a3874020-c06d-4e39-ef97-756736f7e1bb"
      },
      "source": [
        "### YOUR CODE HERE\n",
        "#class_rm.fit()\n",
        "class_rm = linear_model.LogisticRegression()\n",
        "class_rm.fit(x_train, y_train)\n",
        "\n",
        "### END CODE"
      ],
      "execution_count": null,
      "outputs": [
        {
          "output_type": "execute_result",
          "data": {
            "text/plain": [
              "LogisticRegression(C=1.0, class_weight=None, dual=False, fit_intercept=True,\n",
              "                   intercept_scaling=1, l1_ratio=None, max_iter=100,\n",
              "                   multi_class='auto', n_jobs=None, penalty='l2',\n",
              "                   random_state=None, solver='lbfgs', tol=0.0001, verbose=0,\n",
              "                   warm_start=False)"
            ]
          },
          "metadata": {
            "tags": []
          },
          "execution_count": 28
        }
      ]
    },
    {
      "cell_type": "markdown",
      "metadata": {
        "id": "M_keLGwQjzsu",
        "colab_type": "text"
      },
      "source": [
        "### How do we know if our 'model' is actually 'learning' anything? We need to test it on unseen data.\n",
        "\n",
        "Here we will be designating test inputs to check our model."
      ]
    },
    {
      "cell_type": "code",
      "metadata": {
        "id": "WaBE6yg6kF2N",
        "colab_type": "code",
        "colab": {}
      },
      "source": [
        "x_test = test_df[input_labels]"
      ],
      "execution_count": null,
      "outputs": []
    },
    {
      "cell_type": "markdown",
      "metadata": {
        "id": "vPJNTRKmkTwl",
        "colab_type": "text"
      },
      "source": [
        "This line of code below gives us the true or actual values for the test inputs.\n"
      ]
    },
    {
      "cell_type": "code",
      "metadata": {
        "id": "0Xcz9OW6kcAI",
        "colab_type": "code",
        "colab": {}
      },
      "source": [
        "y_test = test_df[output_label].values.squeeze()"
      ],
      "execution_count": null,
      "outputs": []
    },
    {
      "cell_type": "markdown",
      "metadata": {
        "id": "m7Ii-5ijkX8K",
        "colab_type": "text"
      },
      "source": [
        "###Next, we need to figure out what our line thinks the diagnosis is based on our data points\n",
        "\n",
        "#### Exercise: Fill in the appropriate input to this function and run the function below.\n",
        "\n",
        "`y_pred = class_rm.predict(FILL_ME_IN)`"
      ]
    },
    {
      "cell_type": "code",
      "metadata": {
        "id": "_59Wk6q46XVq",
        "colab_type": "code",
        "colab": {}
      },
      "source": [
        "## YOUR CODE HERE\n",
        "#class_rm.fit(x_train, y_train)\n",
        "#x_test = test_df[input_labels]\n",
        "#y_test = test_df[output_label].values.squeeze()\n",
        "y_pred = class_rm.predict(x_test)\n",
        "\n",
        "## END CODE\n"
      ],
      "execution_count": null,
      "outputs": []
    },
    {
      "cell_type": "code",
      "metadata": {
        "id": "EjwNluOxOtoC",
        "colab_type": "code",
        "colab": {
          "base_uri": "https://localhost:8080/",
          "height": 134
        },
        "outputId": "8897f370-051f-4a5e-f436-8b4be86b287d"
      },
      "source": [
        "print(y_pred)"
      ],
      "execution_count": null,
      "outputs": [
        {
          "output_type": "stream",
          "text": [
            "[1 0 0 1 1 1 1 1 0 0 0 0 1 0 1 0 0 0 0 1 0 0 1 0 1 0 0 1 1 1 1 0 1 0 0 0 1\n",
            " 1 0 0 0 0 0 0 0 1 0 0 1 1 1 1 0 0 0 0 0 1 0 0 0 0 1 0 0 0 0 1 0 0 0 0 0 1\n",
            " 0 1 1 0 0 1 0 1 0 1 0 0 0 0 0 0 0 0 0 0 1 0 0 0 0 0 0 0 0 1 0 1 0 0 1 1 0\n",
            " 0 0 0 1 1 0 0 0 1 0 1 1 0 0 1 1 1 1 1 0 1 0 1 0 1 1 1 0 1 1 1 0 1 1 1 0 0\n",
            " 0 1 0 0 0 0 1 0 1 0 0 0 0 0 0 1 0 0 1 1 1 0 0 0 0 0 0 0 0 0 1 0 0 0 0 0 1\n",
            " 1 1 0 1 0 0 0 0 1 1 0 0 0 1 0 1 0 1 0 1 1 0 1 0 1 0 0 0 0 1 0 0 0 0 0 0 0\n",
            " 1 0 1 0 0 1]\n"
          ],
          "name": "stdout"
        }
      ]
    },
    {
      "cell_type": "markdown",
      "metadata": {
        "id": "ensyfit5lP1U",
        "colab_type": "text"
      },
      "source": [
        "Run the code below to visualize the results"
      ]
    },
    {
      "cell_type": "code",
      "metadata": {
        "id": "GUSOLlz8lJu-",
        "colab_type": "code",
        "colab": {
          "base_uri": "https://localhost:8080/",
          "height": 296
        },
        "outputId": "7b531bd7-ba12-43fe-a2fb-d82a7f39fc57"
      },
      "source": [
        "y_pred = y_pred.squeeze()\n",
        "x_test_view = x_test[input_labels].values.squeeze()\n",
        "sns.scatterplot(x = x_test_view, y = y_pred, hue = y_test)\n",
        "plt.xlabel('Radius')\n",
        "plt.ylabel('Predicted')\n",
        "plt.legend()"
      ],
      "execution_count": null,
      "outputs": [
        {
          "output_type": "execute_result",
          "data": {
            "text/plain": [
              "<matplotlib.legend.Legend at 0x7f4c0e20ff60>"
            ]
          },
          "metadata": {
            "tags": []
          },
          "execution_count": 33
        },
        {
          "output_type": "display_data",
          "data": {
            "image/png": "[encoded data removed]",
            "text/plain": [
              "<Figure size 432x288 with 1 Axes>"
            ]
          },
          "metadata": {
            "tags": [],
            "needs_background": "light"
          }
        }
      ]
    },
    {
      "cell_type": "markdown",
      "metadata": {
        "id": "x_DJgPAHlaVQ",
        "colab_type": "text"
      },
      "source": [
        "### Finally, let's re-evalute the recall, accuracy, and precision for the model by calling the functions we created."
      ]
    },
    {
      "cell_type": "code",
      "metadata": {
        "id": "BKz5TfiOTHDl",
        "colab_type": "code",
        "colab": {
          "base_uri": "https://localhost:8080/",
          "height": 67
        },
        "outputId": "9e9910ae-0ad9-4db9-da4b-e9864f16b040"
      },
      "source": [
        "model_stats(y_test, y_pred)"
      ],
      "execution_count": null,
      "outputs": [
        {
          "output_type": "stream",
          "text": [
            "Accuracy:  0.8552631578947368\n",
            "Precision:  0.7831325301204819\n",
            "Recall:  0.8125\n"
          ],
          "name": "stdout"
        }
      ]
    },
    {
      "cell_type": "markdown",
      "metadata": {
        "id": "eAi-LWA12aLh",
        "colab_type": "text"
      },
      "source": [
        "## What is logistic regression doing? It's giving 'soft' predictions!\n"
      ]
    },
    {
      "cell_type": "code",
      "metadata": {
        "id": "V0tu5u7Y7CVL",
        "colab_type": "code",
        "colab": {
          "base_uri": "https://localhost:8080/",
          "height": 282
        },
        "outputId": "71239c7a-fb45-4092-cce9-7f32588618d0"
      },
      "source": [
        "# Let's visualize the probabilities for `x_test`\n",
        "y_prob = class_rm.predict_proba(x_test)\n",
        "sns.scatterplot(x = x_test_view, y = y_prob[:,1], hue = y_test)"
      ],
      "execution_count": null,
      "outputs": [
        {
          "output_type": "execute_result",
          "data": {
            "text/plain": [
              "<matplotlib.axes._subplots.AxesSubplot at 0x7f4c0e14cc18>"
            ]
          },
          "metadata": {
            "tags": []
          },
          "execution_count": 35
        },
        {
          "output_type": "display_data",
          "data": {
            "image/png": "[encoded data removed]",
            "text/plain": [
              "<Figure size 432x288 with 1 Axes>"
            ]
          },
          "metadata": {
            "tags": [],
            "needs_background": "light"
          }
        }
      ]
    },
    {
      "cell_type": "markdown",
      "metadata": {
        "id": "W2YecYWaN04j",
        "colab_type": "text"
      },
      "source": [
        "The Y-axis is the  probability of being 'malignant' and the X-axis is the radius mean. \n",
        "\n",
        "**Can you interpret or take a guess about what the graph above is saying?**"
      ]
    },
    {
      "cell_type": "code",
      "metadata": {
        "id": "ulCqcOBenDXO",
        "colab_type": "code",
        "colab": {}
      },
      "source": [
        "#To decide if the sample is 'malignant', it draws a 'decision boundary' where it thinks the sample is \n",
        "#equally likely to be'malignant' and 'normal', and asks 'am I to the left or the right of the boundary?'"
      ],
      "execution_count": null,
      "outputs": []
    },
    {
      "cell_type": "markdown",
      "metadata": {
        "id": "pDanKBnC9ocw",
        "colab_type": "text"
      },
      "source": [
        "## How does logistic regression relate to linear regression? \n"
      ]
    },
    {
      "cell_type": "markdown",
      "metadata": {
        "id": "zmLI0b9lP663",
        "colab_type": "text"
      },
      "source": [
        "\n",
        "Recall that linear regression establishes a relationship between the independent and dependent variables. This is particularly useful when we want to estimate the dependent variable based on the value of the independent variable(s). \n",
        "\n",
        "With logistic regression, we are predicting a probability between 0 and 1 (like whether or not a tumor is malignant or benign). \n",
        "\n",
        "When we look at graphical representations, linear regression will yield a line while logistic regression an S-shaped curve. \n"
      ]
    },
    {
      "cell_type": "markdown",
      "metadata": {
        "id": "4768savLF9kQ",
        "colab_type": "text"
      },
      "source": [
        "## Visualization: linear vs. logistic regression\n",
        "\n"
      ]
    },
    {
      "cell_type": "markdown",
      "metadata": {
        "id": "nVZQExC5Qhbs",
        "colab_type": "text"
      },
      "source": [
        "This plot shows the graphical representations described above. As you can see, the linear model can yield predicted values outside the [0,1] range because it is a continuous linear function. \n",
        "\n",
        "On the other hand, the logistic model stays within our bounds. You can see that the logistic model gives a \"line\" with curvy ends in the [0,1] range, which is the best approximation for a line that will also always respect these boundaries. \n",
        "\n",
        "**Confusingly, the biggest difference between linear and logistic regression is that linear regression is used for regression problems (predicting the value of continuous variables) while logistic regression is used for classification problems!**\n",
        "\n",
        "*Linear Regression:*\n",
        "\n",
        "![Linear Regression](https://i.stack.imgur.com/kW8YP.png)\n",
        "\n",
        "*Logistic Regression:*\n",
        "\n",
        "![Logistic Regression](https://techdifferences.com/wp-content/uploads/2018/01/graph-logistic-regression.jpg)"
      ]
    },
    {
      "cell_type": "markdown",
      "metadata": {
        "id": "qwV9puGeutSd",
        "colab_type": "text"
      },
      "source": [
        "# (Optional) An even better logistic regression! \n",
        "\n",
        "#### Exercise 5\n",
        "\n",
        "Previously, we still just used a single feature to predict diagnosis. Now, let's leverage our input data's many features to build an even better classifier. First, let's set our input labels to be the list of all our features we chose for our dataframe and our output label to be the diagnosis.\n",
        "\n",
        "```\n",
        "input_labels =\n",
        "output_label =\n",
        "```\n"
      ]
    },
    {
      "cell_type": "markdown",
      "metadata": {
        "id": "b1IA7nNQm5tD",
        "colab_type": "text"
      },
      "source": [
        "#### How do you select multiple columns from a pandas Dataframe?\n",
        "\n",
        "```\n",
        "\n",
        "pd.DataFrame[['radius_mean','area_mean']] ## this returns a dataframe\n",
        "\n",
        "\n",
        "pd.DataFrame['area_mean'] ## this returns a pandas Series\n",
        "\n",
        "```"
      ]
    },
    {
      "cell_type": "code",
      "metadata": {
        "id": "wuT2-qCf8gmA",
        "colab_type": "code",
        "colab": {
          "base_uri": "https://localhost:8080/",
          "height": 531
        },
        "outputId": "f8501f34-7b8e-4a60-cc2e-608c62d53ea5"
      },
      "source": [
        "# YOUR CODE HERE:\n",
        "input_labels = ['radius_mean',\t'area_mean',\t'radius_se',\t'area_se',\t'smoothness_mean']\n",
        "output_label = 'diagnosis'\n",
        "\n",
        "\n",
        "x_train = train_df[input_labels]\n",
        "print('Our x variables')\n",
        "print(x_train.head())\n",
        "print('\\n\\n')\n",
        "\n",
        "y_train = train_df[output_label]\n",
        "print('Our y variable:')\n",
        "print(y_train.head())\n",
        "\n",
        "class_rm = linear_model.LogisticRegression()\n",
        "class_rm.fit(x_train, y_train)\n",
        "\n",
        "x_test = test_df[input_labels]\n",
        "y_test = test_df[output_label].values.squeeze()\n",
        "\n",
        "y_pred = class_rm.predict(x_test)\n",
        "\n",
        "model_stats(y_test, y_pred)\n",
        "\n",
        "train_df.head()\n",
        "# END CODE"
      ],
      "execution_count": null,
      "outputs": [
        {
          "output_type": "stream",
          "text": [
            "Our x variables\n",
            "     radius_mean  area_mean  radius_se  area_se  smoothness_mean\n",
            "164       23.270     1686.0     0.6642    97.85          0.08439\n",
            "13        15.850      782.7     0.4033    36.58          0.08401\n",
            "430       14.900      685.0     0.2530    24.19          0.09947\n",
            "61         8.598      221.8     0.3582    18.39          0.12430\n",
            "427       10.800      359.9     0.3077    20.20          0.08801\n",
            "\n",
            "\n",
            "\n",
            "Our y variable:\n",
            "164    1\n",
            "13     1\n",
            "430    1\n",
            "61     0\n",
            "427    0\n",
            "Name: diagnosis, dtype: int64\n",
            "Accuracy:  0.8947368421052632\n",
            "Precision:  0.8783783783783784\n",
            "Recall:  0.8125\n"
          ],
          "name": "stdout"
        },
        {
          "output_type": "execute_result",
          "data": {
            "text/html": [
              "<div>\n",
              "<style scoped>\n",
              "    .dataframe tbody tr th:only-of-type {\n",
              "        vertical-align: middle;\n",
              "    }\n",
              "\n",
              "    .dataframe tbody tr th {\n",
              "        vertical-align: top;\n",
              "    }\n",
              "\n",
              "    .dataframe thead th {\n",
              "        text-align: right;\n",
              "    }\n",
              "</style>\n",
              "<table border=\"1\" class=\"dataframe\">\n",
              "  <thead>\n",
              "    <tr style=\"text-align: right;\">\n",
              "      <th></th>\n",
              "      <th>diagnosis</th>\n",
              "      <th>radius_mean</th>\n",
              "      <th>area_mean</th>\n",
              "      <th>radius_se</th>\n",
              "      <th>area_se</th>\n",
              "      <th>smoothness_mean</th>\n",
              "      <th>smoothness_se</th>\n",
              "      <th>predicted</th>\n",
              "    </tr>\n",
              "  </thead>\n",
              "  <tbody>\n",
              "    <tr>\n",
              "      <th>164</th>\n",
              "      <td>1</td>\n",
              "      <td>23.270</td>\n",
              "      <td>1686.0</td>\n",
              "      <td>0.6642</td>\n",
              "      <td>97.85</td>\n",
              "      <td>0.08439</td>\n",
              "      <td>0.004910</td>\n",
              "      <td>1</td>\n",
              "    </tr>\n",
              "    <tr>\n",
              "      <th>13</th>\n",
              "      <td>1</td>\n",
              "      <td>15.850</td>\n",
              "      <td>782.7</td>\n",
              "      <td>0.4033</td>\n",
              "      <td>36.58</td>\n",
              "      <td>0.08401</td>\n",
              "      <td>0.009769</td>\n",
              "      <td>1</td>\n",
              "    </tr>\n",
              "    <tr>\n",
              "      <th>430</th>\n",
              "      <td>1</td>\n",
              "      <td>14.900</td>\n",
              "      <td>685.0</td>\n",
              "      <td>0.2530</td>\n",
              "      <td>24.19</td>\n",
              "      <td>0.09947</td>\n",
              "      <td>0.006965</td>\n",
              "      <td>0</td>\n",
              "    </tr>\n",
              "    <tr>\n",
              "      <th>61</th>\n",
              "      <td>0</td>\n",
              "      <td>8.598</td>\n",
              "      <td>221.8</td>\n",
              "      <td>0.3582</td>\n",
              "      <td>18.39</td>\n",
              "      <td>0.12430</td>\n",
              "      <td>0.011930</td>\n",
              "      <td>0</td>\n",
              "    </tr>\n",
              "    <tr>\n",
              "      <th>427</th>\n",
              "      <td>0</td>\n",
              "      <td>10.800</td>\n",
              "      <td>359.9</td>\n",
              "      <td>0.3077</td>\n",
              "      <td>20.20</td>\n",
              "      <td>0.08801</td>\n",
              "      <td>0.006543</td>\n",
              "      <td>0</td>\n",
              "    </tr>\n",
              "  </tbody>\n",
              "</table>\n",
              "</div>"
            ],
            "text/plain": [
              "     diagnosis  radius_mean  ...  smoothness_se  predicted\n",
              "164          1       23.270  ...       0.004910          1\n",
              "13           1       15.850  ...       0.009769          1\n",
              "430          1       14.900  ...       0.006965          0\n",
              "61           0        8.598  ...       0.011930          0\n",
              "427          0       10.800  ...       0.006543          0\n",
              "\n",
              "[5 rows x 8 columns]"
            ]
          },
          "metadata": {
            "tags": []
          },
          "execution_count": 44
        }
      ]
    },
    {
      "cell_type": "code",
      "metadata": {
        "id": "Xm-DfDR_n2nt",
        "colab_type": "code",
        "colab": {
          "base_uri": "https://localhost:8080/",
          "height": 302
        },
        "outputId": "4e3bfbd5-c8c5-42a1-96d9-5402ee976380"
      },
      "source": [
        "#@title Let's visualize our selection { display-mode: \"form\" }\n",
        "\n",
        "x_train = train_df[input_labels]\n",
        "print('Our x variables')\n",
        "print(x_train.head())\n",
        "print('\\n\\n')\n",
        "y_train = train_df[output_label]\n",
        "print('Our y variable:')\n",
        "print(y_train.head())"
      ],
      "execution_count": null,
      "outputs": [
        {
          "output_type": "stream",
          "text": [
            "Our x variables\n",
            "     radius_mean  area_mean  radius_se  area_se  smoothness_mean  smoothness_se\n",
            "164       23.270     1686.0     0.6642    97.85          0.08439       0.004910\n",
            "13        15.850      782.7     0.4033    36.58          0.08401       0.009769\n",
            "430       14.900      685.0     0.2530    24.19          0.09947       0.006965\n",
            "61         8.598      221.8     0.3582    18.39          0.12430       0.011930\n",
            "427       10.800      359.9     0.3077    20.20          0.08801       0.006543\n",
            "\n",
            "\n",
            "\n",
            "Our y variable:\n",
            "164    1\n",
            "13     1\n",
            "430    1\n",
            "61     0\n",
            "427    0\n",
            "Name: diagnosis, dtype: int64\n"
          ],
          "name": "stdout"
        }
      ]
    },
    {
      "cell_type": "markdown",
      "metadata": {
        "id": "_UA2kNtUodqz",
        "colab_type": "text"
      },
      "source": [
        "**Challenge Exercise:** Now see if you can copy the code from above and build a logistic regression model that uses multiple input variables to make the prediction."
      ]
    },
    {
      "cell_type": "code",
      "metadata": {
        "id": "mT460Ui1oc4q",
        "colab_type": "code",
        "colab": {}
      },
      "source": [
        "## YOUR CODE HERE\n",
        "\n",
        "#create a 'reg' object that handles the line fitting for us\n",
        "class_rm = linear_model.LogisticRegression()\n",
        "\n",
        "# tell our 'class_rm' object to take in my inputs (x) and my true labels (y) and fit a line that predicts y from x\"\n",
        "class_rm.fit(x_train, y_train)\n",
        "\n",
        "\n",
        "# Designating test inputs to check our model\n",
        "x_test = test_df[input_labels]\n",
        "\n",
        "# The true values for the test inputs\n",
        "y_test = test_df[output_label].values.squeeze()\n",
        "\n",
        "# figure out what our line thinks the diagnosis is based on our data points\n",
        "y_pred = class_rm.predict(x_test)\n",
        "\n",
        "# re-evalute the recall, accuracy, and precision for\n",
        "# the new model by calling the functions we created\n",
        "model_stats(y_test, y_pred)\n",
        "\n",
        "\n",
        "\n",
        "\n",
        "\n",
        "## END CODE"
      ],
      "execution_count": null,
      "outputs": []
    },
    {
      "cell_type": "markdown",
      "metadata": {
        "id": "bCP5dB9dvJ1x",
        "colab_type": "text"
      },
      "source": [
        "# (Optional) Decision Trees Walkthrough\n",
        "\n",
        "Finally, let's try a different classification model: decision trees! Recall that with decision trees, we choose features that create the best splits of our dataset (separates it into classes as best it can at that time)."
      ]
    },
    {
      "cell_type": "code",
      "metadata": {
        "id": "VbpWRKvyTedY",
        "colab_type": "code",
        "colab": {}
      },
      "source": [
        "#@title Create the model { display-mode: \"both\" }\n",
        "from sklearn import tree\n",
        "\n",
        "# We'll first specify what model we want, in this case a decision tree\n",
        "class_dt = tree.DecisionTreeClassifier(max_depth=10)\n",
        "\n",
        "# We use our previous `x_train` and `y_train` sets to build the model\n",
        "class_dt.fit(x_train, y_train)\n",
        "x_train.head()"
      ],
      "execution_count": null,
      "outputs": []
    },
    {
      "cell_type": "code",
      "metadata": {
        "id": "2PpoiLD77HkK",
        "colab_type": "code",
        "cellView": "both",
        "colab": {}
      },
      "source": [
        "#@title Visualize and interpret the tree\n",
        "x_train.head()\n",
        "tree.plot_tree(class_dt) "
      ],
      "execution_count": null,
      "outputs": []
    },
    {
      "cell_type": "code",
      "metadata": {
        "id": "IKUiw9KdUQBs",
        "colab_type": "code",
        "colab": {}
      },
      "source": [
        "#@title Find the predictions based on the model { display-mode: \"both\" }\n",
        "# now let's see how it performed!\n",
        "y_pred = class_dt.predict(x_test)"
      ],
      "execution_count": null,
      "outputs": []
    },
    {
      "cell_type": "code",
      "metadata": {
        "id": "FcJmeOmFUaHP",
        "colab_type": "code",
        "colab": {}
      },
      "source": [
        "#@title Calculate model performance { display-mode: \"both\" }\n",
        "model_stats(y_test, y_pred)"
      ],
      "execution_count": null,
      "outputs": []
    },
    {
      "cell_type": "markdown",
      "metadata": {
        "id": "E73C1cXI7e_N",
        "colab_type": "text"
      },
      "source": [
        "**Question: What features are included in this classifier? How might you interpret this tree? Did this do better than the logistic regression?**"
      ]
    },
    {
      "cell_type": "markdown",
      "metadata": {
        "id": "2_xQGU1B03sz",
        "colab_type": "text"
      },
      "source": [
        "# Challenge: Choosing a classifier\n",
        "We've studied two common classifiers, but many more are available. You can read about some of them [here](https://stackabuse.com/overview-of-classification-methods-in-python-with-scikit-learn/).\n",
        "\n",
        "Let's try to choose the overall best classifier for this dataset. Fill in the code below to:\n",
        "*   Use a for loop to train and evaluate each classifer in the list on our dataset.\n",
        "*   Calculate the precision, recall, and accuracy on the test set for each classifier, and store the results in a data frame so it's easy to analyze.\n",
        "*   Create plots to show the relationships between precision, accuracy, and recall and help you choose the \"best\" classifier.\n",
        "\n",
        "Then experiment with changing the hyperparameters of each classifier - can you get even better results?"
      ]
    },
    {
      "cell_type": "code",
      "metadata": {
        "id": "hxYta-NO1-vV",
        "colab_type": "code",
        "cellView": "form",
        "colab": {}
      },
      "source": [
        "#@title Run this to import classifiers\n",
        "import numpy as np\n",
        "import matplotlib.pyplot as plt\n",
        "from matplotlib.colors import ListedColormap\n",
        "from sklearn.model_selection import train_test_split\n",
        "from sklearn.preprocessing import StandardScaler\n",
        "from sklearn.datasets import make_moons, make_circles, make_classification\n",
        "from sklearn.neural_network import MLPClassifier\n",
        "from sklearn.neighbors import KNeighborsClassifier\n",
        "from sklearn.svm import SVC\n",
        "from sklearn.gaussian_process import GaussianProcessClassifier\n",
        "from sklearn.gaussian_process.kernels import RBF\n",
        "from sklearn.tree import DecisionTreeClassifier\n",
        "from sklearn.ensemble import RandomForestClassifier, AdaBoostClassifier\n",
        "from sklearn.naive_bayes import GaussianNB\n",
        "from sklearn.discriminant_analysis import QuadraticDiscriminantAnalysis\n"
      ],
      "execution_count": null,
      "outputs": []
    },
    {
      "cell_type": "code",
      "metadata": {
        "id": "oNnm1_--unHR",
        "colab_type": "code",
        "colab": {}
      },
      "source": [
        "#Once you've got your code working, try changing the hyperparameters of the classifiers\n",
        "#to see if you can get even better results. \n",
        "#Can you find out what the hyperparameters mean?\n",
        "classifiers = [\n",
        "    KNeighborsClassifier(3),\n",
        "    SVC(kernel=\"linear\", C=0.025),\n",
        "    GaussianProcessClassifier(1.0 * RBF(1.0)),\n",
        "    DecisionTreeClassifier(max_depth=5),\n",
        "    RandomForestClassifier(max_depth=5, n_estimators=10, max_features=1),\n",
        "    MLPClassifier(alpha=1, max_iter=1000),\n",
        "    AdaBoostClassifier(),\n",
        "    GaussianNB(),\n",
        "    QuadraticDiscriminantAnalysis()] \n",
        "\n",
        "results = pd.DataFrame(index = classifiers, columns = ['accuracy','precision','recall'])\n",
        "print (results)\n",
        "#Use a for loop to train and test each classifier, and store the test results in the appropriate place in results_frame. \n",
        "#You might find the code above useful, as well as https://towardsdatascience.com/a-python-beginners-look-at-loc-part-2-bddef7dfa7f2 .\n",
        "\n",
        "### YOUR CODE HERE ###\n",
        "\n",
        "for clf in classifiers:\n",
        "  clf.fit(x_train, y_train)\n",
        "  y_pred = clf.predict(x_test)\n",
        "  acc = metrics.accuracy_score(y_test, y_pred)\n",
        "  prec = metrics.precision_score(y_test, y_pred)\n",
        "  rec = metrics.recall_score(y_test, y_pred)\n",
        "  results.loc[clf] = [acc, prec, rec]\n",
        "\n",
        "print (results)\n",
        "\n",
        "plt.plot(results['precision'],results['recall'],'.')\n",
        "#note tradeoff between precision and recall\n",
        "\n",
        "plt.show()\n",
        "\n",
        "\n",
        "### END CODE ###\n",
        "\n",
        "\n",
        "#TODO: Using pyplot, show the relationships between precision, recall, and/or accuracy.\n",
        "#Tutorial here: https://matplotlib.org/tutorials/introductory/pyplot.html\n"
      ],
      "execution_count": null,
      "outputs": []
    },
    {
      "cell_type": "markdown",
      "metadata": {
        "id": "4Lr8SaCT2scN",
        "colab_type": "text"
      },
      "source": [
        "**Think about:**\n",
        "*   Which classifier would you choose?\n",
        "*   What are the relationships among precision, recall, and accuracy? For this dataset, which is most important?\n",
        "*   Can you find more successful hyperparameters for each classifer?\n",
        "\n",
        "Your experiments will help you find a classifier that works very well on our test set. However, you're running a risk by doing so much manual fine-tuning: you might end up \"overfitting\" (on a more meta level) by choosing a classifier that works well on your test set, but might not work well on other data. \n",
        "\n",
        "That's why most machine learning projects actually use [*three* datasets](https://towardsdatascience.com/train-validation-and-test-sets-72cb40cba9e7): a training set that we use to train each candidate model; a validation set that we use to evaluate each candidate model and choose the best one; and finally, a test set which we use only once, to report the overall performance of our project. \n",
        "\n",
        "\n"
      ]
    }
  ]
}